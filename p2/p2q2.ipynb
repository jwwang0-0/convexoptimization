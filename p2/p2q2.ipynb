{
 "cells": [
  {
   "cell_type": "markdown",
   "metadata": {},
   "source": [
    "# Problem 2"
   ]
  },
  {
   "cell_type": "code",
   "execution_count": 3,
   "metadata": {},
   "outputs": [
    {
     "name": "stdout",
     "output_type": "stream",
     "text": [
      "===============================================================================\n",
      "                                     CVXPY                                     \n",
      "                                     v1.4.1                                    \n",
      "===============================================================================\n",
      "(CVXPY) Nov 17 03:37:26 PM: Your problem has 129 variables, 3 constraints, and 0 parameters.\n",
      "(CVXPY) Nov 17 03:37:26 PM: It is compliant with the following grammars: DCP, DQCP\n",
      "(CVXPY) Nov 17 03:37:26 PM: (If you need to solve this problem multiple times, but with different data, consider using parameters.)\n",
      "(CVXPY) Nov 17 03:37:26 PM: CVXPY will first compile your problem; then, it will invoke a numerical solver to obtain a solution.\n",
      "(CVXPY) Nov 17 03:37:26 PM: Your problem is compiled with the CPP canonicalization backend.\n",
      "-------------------------------------------------------------------------------\n",
      "                                  Compilation                                  \n",
      "-------------------------------------------------------------------------------\n",
      "(CVXPY) Nov 17 03:37:26 PM: Compiling problem (target solver=MOSEK).\n",
      "(CVXPY) Nov 17 03:37:26 PM: Reduction chain: Dcp2Cone -> CvxAttr2Constr -> ConeMatrixStuffing -> MOSEK\n",
      "(CVXPY) Nov 17 03:37:26 PM: Applying reduction Dcp2Cone\n",
      "(CVXPY) Nov 17 03:37:26 PM: Applying reduction CvxAttr2Constr\n",
      "(CVXPY) Nov 17 03:37:26 PM: Applying reduction ConeMatrixStuffing\n",
      "(CVXPY) Nov 17 03:37:26 PM: Applying reduction MOSEK\n",
      "(CVXPY) Nov 17 03:37:26 PM: Finished problem compilation (took 5.781e-02 seconds).\n",
      "-------------------------------------------------------------------------------\n",
      "                                Numerical solver                               \n",
      "-------------------------------------------------------------------------------\n",
      "(CVXPY) Nov 17 03:37:26 PM: Invoking solver MOSEK  to obtain a solution.\n",
      "\n",
      "\n",
      "(CVXPY) Nov 17 03:37:26 PM: Problem\n",
      "(CVXPY) Nov 17 03:37:26 PM:   Name                   :                 \n",
      "(CVXPY) Nov 17 03:37:26 PM:   Objective sense        : maximize        \n",
      "(CVXPY) Nov 17 03:37:26 PM:   Type                   : CONIC (conic optimization problem)\n",
      "(CVXPY) Nov 17 03:37:26 PM:   Constraints            : 131             \n",
      "(CVXPY) Nov 17 03:37:26 PM:   Affine conic cons.     : 0               \n",
      "(CVXPY) Nov 17 03:37:26 PM:   Disjunctive cons.      : 0               \n",
      "(CVXPY) Nov 17 03:37:26 PM:   Cones                  : 1               \n",
      "(CVXPY) Nov 17 03:37:26 PM:   Scalar variables       : 214             \n",
      "(CVXPY) Nov 17 03:37:26 PM:   Matrix variables       : 0               \n",
      "(CVXPY) Nov 17 03:37:26 PM:   Integer variables      : 0               \n",
      "(CVXPY) Nov 17 03:37:26 PM: \n",
      "(CVXPY) Nov 17 03:37:26 PM: Optimizer started.\n",
      "(CVXPY) Nov 17 03:37:26 PM: Presolve started.\n",
      "(CVXPY) Nov 17 03:37:26 PM: Linear dependency checker started.\n",
      "(CVXPY) Nov 17 03:37:26 PM: Linear dependency checker terminated.\n",
      "(CVXPY) Nov 17 03:37:26 PM: Eliminator started.\n",
      "(CVXPY) Nov 17 03:37:26 PM: Freed constraints in eliminator : 0\n",
      "(CVXPY) Nov 17 03:37:26 PM: Eliminator terminated.\n",
      "(CVXPY) Nov 17 03:37:26 PM: Eliminator - tries                  : 1                 time                   : 0.00            \n",
      "(CVXPY) Nov 17 03:37:26 PM: Lin. dep.  - tries                  : 1                 time                   : 0.00            \n",
      "(CVXPY) Nov 17 03:37:26 PM: Lin. dep.  - primal attempts        : 1                 successes              : 1               \n",
      "(CVXPY) Nov 17 03:37:26 PM: Lin. dep.  - dual attempts          : 0                 successes              : 0               \n",
      "(CVXPY) Nov 17 03:37:26 PM: Lin. dep.  - primal deps.           : 0                 dual deps.             : 0               \n",
      "(CVXPY) Nov 17 03:37:26 PM: Presolve terminated. Time: 0.00    \n",
      "(CVXPY) Nov 17 03:37:26 PM: Optimizer  - threads                : 14              \n",
      "(CVXPY) Nov 17 03:37:26 PM: Optimizer  - solved problem         : the dual        \n",
      "(CVXPY) Nov 17 03:37:26 PM: Optimizer  - Constraints            : 85              \n",
      "(CVXPY) Nov 17 03:37:26 PM: Optimizer  - Cones                  : 2               \n",
      "(CVXPY) Nov 17 03:37:26 PM: Optimizer  - Scalar variables       : 216               conic                  : 46              \n",
      "(CVXPY) Nov 17 03:37:26 PM: Optimizer  - Semi-definite variables: 0                 scalarized             : 0               \n",
      "(CVXPY) Nov 17 03:37:26 PM: Factor     - setup time             : 0.00            \n",
      "(CVXPY) Nov 17 03:37:26 PM: Factor     - dense det. time        : 0.00              GP order time          : 0.00            \n",
      "(CVXPY) Nov 17 03:37:26 PM: Factor     - nonzeros before factor : 3655              after factor           : 3655            \n"
     ]
    },
    {
     "name": "stderr",
     "output_type": "stream",
     "text": [
      "c:\\Users\\jingwang\\.conda\\envs\\convex\\lib\\site-packages\\cvxpy\\expressions\\expression.py:621: UserWarning: \n",
      "This use of ``*`` has resulted in matrix multiplication.\n",
      "Using ``*`` for matrix multiplication has been deprecated since CVXPY 1.1.\n",
      "    Use ``*`` for matrix-scalar and vector-scalar multiplication.\n",
      "    Use ``@`` for matrix-matrix and matrix-vector multiplication.\n",
      "    Use ``multiply`` for elementwise multiplication.\n",
      "This code path has been hit 1 times so far.\n",
      "\n",
      "  warnings.warn(msg, UserWarning)\n"
     ]
    },
    {
     "name": "stdout",
     "output_type": "stream",
     "text": [
      "(CVXPY) Nov 17 03:37:26 PM: Factor     - dense dim.             : 0                 flops                  : 2.38e+05        \n",
      "(CVXPY) Nov 17 03:37:26 PM: ITE PFEAS    DFEAS    GFEAS    PRSTATUS   POBJ              DOBJ              MU       TIME  \n",
      "(CVXPY) Nov 17 03:37:26 PM: 0   1.6e+02  5.9e+00  1.5e+00  0.00e+00   0.000000000e+00   5.000000000e-01   1.0e+00  0.01  \n",
      "(CVXPY) Nov 17 03:37:26 PM: 1   1.9e+01  7.2e-01  4.7e-01  -9.65e-01  3.508490085e+00   -1.905865801e+00  1.2e-01  0.05  \n",
      "(CVXPY) Nov 17 03:37:26 PM: 2   5.6e+00  2.1e-01  1.9e-01  -6.63e-01  2.530726795e+01   1.365369982e+01   3.5e-02  0.05  \n",
      "(CVXPY) Nov 17 03:37:26 PM: 3   3.8e-02  1.4e-03  8.9e-04  -1.58e-01  1.705706616e+01   1.072274165e+01   2.4e-04  0.06  \n",
      "(CVXPY) Nov 17 03:37:26 PM: 4   1.7e-03  6.5e-05  8.9e-06  9.90e-01   1.781192288e+01   1.751819261e+01   1.1e-05  0.06  \n",
      "(CVXPY) Nov 17 03:37:26 PM: 5   1.1e-04  4.1e-06  1.1e-07  9.99e-01   1.811444129e+01   1.810372632e+01   6.8e-07  0.06  \n",
      "(CVXPY) Nov 17 03:37:26 PM: 6   3.3e-07  1.2e-08  1.8e-11  1.00e+00   1.813866321e+01   1.813863122e+01   2.1e-09  0.06  \n",
      "(CVXPY) Nov 17 03:37:26 PM: 7   2.4e-09  8.9e-11  1.1e-14  1.00e+00   1.813870464e+01   1.813870442e+01   1.5e-11  0.08  \n",
      "(CVXPY) Nov 17 03:37:26 PM: 8   9.7e-11  5.0e-11  1.8e-16  1.00e+00   1.813870489e+01   1.813870488e+01   6.1e-13  0.08  \n",
      "(CVXPY) Nov 17 03:37:26 PM: Optimizer terminated. Time: 0.12    \n",
      "(CVXPY) Nov 17 03:37:26 PM: \n",
      "(CVXPY) Nov 17 03:37:26 PM: \n",
      "(CVXPY) Nov 17 03:37:26 PM: Interior-point solution summary\n",
      "(CVXPY) Nov 17 03:37:26 PM:   Problem status  : PRIMAL_AND_DUAL_FEASIBLE\n",
      "(CVXPY) Nov 17 03:37:26 PM:   Solution status : OPTIMAL\n",
      "(CVXPY) Nov 17 03:37:26 PM:   Primal.  obj: 1.8138704889e+01    nrm: 5e+00    Viol.  con: 1e-11    var: 0e+00    cones: 0e+00  \n",
      "(CVXPY) Nov 17 03:37:26 PM:   Dual.    obj: 1.8138704880e+01    nrm: 4e+01    Viol.  con: 0e+00    var: 1e-08    cones: 0e+00  \n",
      "-------------------------------------------------------------------------------\n",
      "                                    Summary                                    \n",
      "-------------------------------------------------------------------------------\n",
      "(CVXPY) Nov 17 03:37:26 PM: Problem status: optimal\n",
      "(CVXPY) Nov 17 03:37:26 PM: Optimal value: 1.814e+01\n",
      "(CVXPY) Nov 17 03:37:26 PM: Compilation took 5.781e-02 seconds\n",
      "(CVXPY) Nov 17 03:37:26 PM: Solver (including time spent in interface) took 1.554e-01 seconds\n"
     ]
    }
   ],
   "source": [
    "# Required Python packages\n",
    "import numpy as np\n",
    "import cvxpy as cp\n",
    "import os\n",
    "import matplotlib.pyplot as plt\n",
    "import time as t\n",
    "\n",
    "# Load data\n",
    "\n",
    "x = np.load('data/p2x.npy')\n",
    "y = np.load('data/p2y.npy')\n",
    "\n",
    "rho = 1   # regularization parameter\n",
    "delta = 0.1 # Huber loss parameter\n",
    "\n",
    "# +-----------------+\n",
    "# | Your Code Here! |\n",
    "# +-----------------+\n",
    "\n",
    "#Problem 2 implementation\n",
    "m = x.shape[0]\n",
    "n = x.shape[1]\n",
    "\n",
    "#Define Variable\n",
    "t = cp.Variable((m,1))\n",
    "r_p = cp.Variable((m,1), nonneg=True)\n",
    "r_n = cp.Variable((m,1), nonneg=True)\n",
    "w = cp.Variable(1)\n",
    "b = cp.Variable(1)\n",
    "obj = cp.Variable(1)\n",
    "\n",
    "constraints = [ \n",
    "    w*x + cp.reshape(b * np.ones(m),(m,1)) - cp.reshape(y,(m,1)) - t <= r_p,\n",
    "    cp.reshape(y,(m,1)) - w*x - cp.reshape(b * np.ones(m),(m,1)) + t <= r_n,\n",
    "    1/2 * cp.norm2(t) + delta * np.ones(m).T*(r_p + r_n) + rho/2 * cp.norm2(w) <= obj\n",
    "    ]\n",
    "\n",
    "#Define Objective\n",
    "objective = cp.Minimize(obj)\n",
    "prob = cp.Problem(objective, constraints)\n",
    "prob.solve(solver=cp.MOSEK, verbose=True)\n",
    "\n",
    "y_predict = w.value*x + (b.value * np.ones(m)).reshape((m,1))\n"
   ]
  },
  {
   "cell_type": "code",
   "execution_count": 4,
   "metadata": {},
   "outputs": [
    {
     "name": "stdout",
     "output_type": "stream",
     "text": [
      "[4.49178922]\n",
      "[0.6240286]\n"
     ]
    },
    {
     "data": {
      "text/plain": [
       "<matplotlib.collections.PathCollection at 0x13390173820>"
      ]
     },
     "execution_count": 4,
     "metadata": {},
     "output_type": "execute_result"
    },
    {
     "data": {
      "image/png": "[encoded data removed]",
      "text/plain": [
       "<Figure size 800x800 with 1 Axes>"
      ]
     },
     "metadata": {},
     "output_type": "display_data"
    }
   ],
   "source": [
    "print(b.value)\n",
    "print(w.value)\n",
    "plt.figure(figsize=(8,8))\n",
    "plt.scatter([xi for xi in x],[yi for yi in y], s=15, c = \"#1f77b4\")\n",
    "plt.scatter([xi for xi in x],[yi for yi in y_predict], s=15, c = \"#ff7f0e\")\n"
   ]
  },
  {
   "cell_type": "code",
   "execution_count": 1,
   "metadata": {},
   "outputs": [
    {
     "name": "stdout",
     "output_type": "stream",
     "text": [
      "===============================================================================\n",
      "                                     CVXPY                                     \n",
      "                                     v1.4.1                                    \n",
      "===============================================================================\n",
      "(CVXPY) Nov 17 03:25:30 PM: Your problem has 3 variables, 1 constraints, and 0 parameters.\n",
      "(CVXPY) Nov 17 03:25:30 PM: It is compliant with the following grammars: DCP, DQCP\n",
      "(CVXPY) Nov 17 03:25:30 PM: (If you need to solve this problem multiple times, but with different data, consider using parameters.)\n",
      "(CVXPY) Nov 17 03:25:30 PM: CVXPY will first compile your problem; then, it will invoke a numerical solver to obtain a solution.\n",
      "(CVXPY) Nov 17 03:25:30 PM: Your problem is compiled with the CPP canonicalization backend.\n",
      "-------------------------------------------------------------------------------\n",
      "                                  Compilation                                  \n",
      "-------------------------------------------------------------------------------\n",
      "(CVXPY) Nov 17 03:25:30 PM: Compiling problem (target solver=MOSEK).\n",
      "(CVXPY) Nov 17 03:25:30 PM: Reduction chain: Dcp2Cone -> CvxAttr2Constr -> ConeMatrixStuffing -> MOSEK\n",
      "(CVXPY) Nov 17 03:25:30 PM: Applying reduction Dcp2Cone\n",
      "(CVXPY) Nov 17 03:25:30 PM: Applying reduction CvxAttr2Constr\n",
      "(CVXPY) Nov 17 03:25:30 PM: Applying reduction ConeMatrixStuffing\n",
      "(CVXPY) Nov 17 03:25:30 PM: Applying reduction MOSEK\n",
      "(CVXPY) Nov 17 03:25:30 PM: Finished problem compilation (took 3.638e-02 seconds).\n",
      "-------------------------------------------------------------------------------\n",
      "                                Numerical solver                               \n",
      "-------------------------------------------------------------------------------\n",
      "(CVXPY) Nov 17 03:25:30 PM: Invoking solver MOSEK  to obtain a solution.\n",
      "\n",
      "\n",
      "(CVXPY) Nov 17 03:25:30 PM: Problem\n",
      "(CVXPY) Nov 17 03:25:30 PM:   Name                   :                 \n",
      "(CVXPY) Nov 17 03:25:30 PM:   Objective sense        : maximize        \n",
      "(CVXPY) Nov 17 03:25:30 PM:   Type                   : CONIC (conic optimization problem)\n",
      "(CVXPY) Nov 17 03:25:30 PM:   Constraints            : 5               \n",
      "(CVXPY) Nov 17 03:25:30 PM:   Affine conic cons.     : 0               \n",
      "(CVXPY) Nov 17 03:25:30 PM:   Disjunctive cons.      : 0               \n",
      "(CVXPY) Nov 17 03:25:30 PM:   Cones                  : 1               \n",
      "(CVXPY) Nov 17 03:25:30 PM:   Scalar variables       : 46              \n",
      "(CVXPY) Nov 17 03:25:30 PM:   Matrix variables       : 0               \n",
      "(CVXPY) Nov 17 03:25:30 PM:   Integer variables      : 0               \n",
      "(CVXPY) Nov 17 03:25:30 PM: \n",
      "(CVXPY) Nov 17 03:25:30 PM: Optimizer started.\n",
      "(CVXPY) Nov 17 03:25:30 PM: Presolve started.\n",
      "(CVXPY) Nov 17 03:25:30 PM: Linear dependency checker started.\n",
      "(CVXPY) Nov 17 03:25:30 PM: Linear dependency checker terminated.\n",
      "(CVXPY) Nov 17 03:25:30 PM: Eliminator started.\n",
      "(CVXPY) Nov 17 03:25:30 PM: Freed constraints in eliminator : 1\n",
      "(CVXPY) Nov 17 03:25:30 PM: Eliminator terminated.\n",
      "(CVXPY) Nov 17 03:25:30 PM: Eliminator started.\n",
      "(CVXPY) Nov 17 03:25:30 PM: Freed constraints in eliminator : 0\n",
      "(CVXPY) Nov 17 03:25:30 PM: Eliminator terminated.\n",
      "(CVXPY) Nov 17 03:25:30 PM: Eliminator - tries                  : 2                 time                   : 0.00            \n",
      "(CVXPY) Nov 17 03:25:30 PM: Lin. dep.  - tries                  : 1                 time                   : 0.00            \n",
      "(CVXPY) Nov 17 03:25:30 PM: Lin. dep.  - primal attempts        : 1                 successes              : 1               \n",
      "(CVXPY) Nov 17 03:25:30 PM: Lin. dep.  - dual attempts          : 0                 successes              : 0               \n",
      "(CVXPY) Nov 17 03:25:30 PM: Lin. dep.  - primal deps.           : 0                 dual deps.             : 0               \n",
      "(CVXPY) Nov 17 03:25:30 PM: Presolve terminated. Time: 0.03    \n",
      "(CVXPY) Nov 17 03:25:30 PM: Optimizer  - threads                : 14              \n",
      "(CVXPY) Nov 17 03:25:30 PM: Optimizer  - solved problem         : the primal      \n",
      "(CVXPY) Nov 17 03:25:30 PM: Optimizer  - Constraints            : 2               \n",
      "(CVXPY) Nov 17 03:25:30 PM: Optimizer  - Cones                  : 1               \n",
      "(CVXPY) Nov 17 03:25:30 PM: Optimizer  - Scalar variables       : 44                conic                  : 43              \n",
      "(CVXPY) Nov 17 03:25:30 PM: Optimizer  - Semi-definite variables: 0                 scalarized             : 0               \n",
      "(CVXPY) Nov 17 03:25:30 PM: Factor     - setup time             : 0.00            \n",
      "(CVXPY) Nov 17 03:25:30 PM: Factor     - dense det. time        : 0.00              GP order time          : 0.00            \n",
      "(CVXPY) Nov 17 03:25:30 PM: Factor     - nonzeros before factor : 3                 after factor           : 3               \n",
      "(CVXPY) Nov 17 03:25:30 PM: Factor     - dense dim.             : 0                 flops                  : 2.65e+02        \n",
      "(CVXPY) Nov 17 03:25:30 PM: ITE PFEAS    DFEAS    GFEAS    PRSTATUS   POBJ              DOBJ              MU       TIME  \n",
      "(CVXPY) Nov 17 03:25:30 PM: 0   1.0e+00  2.0e+01  1.5e+00  0.00e+00   -0.000000000e+00  5.000000000e-01   1.0e+00  0.06  \n",
      "(CVXPY) Nov 17 03:25:30 PM: 1   7.9e-02  1.6e+00  4.1e-01  -9.98e-01  1.776312044e+01   6.895802426e+00   7.9e-02  0.09  \n",
      "(CVXPY) Nov 17 03:25:30 PM: 2   2.2e-02  4.5e-01  1.1e-01  -5.49e-01  2.556310294e+01   1.558417979e+01   2.2e-02  0.09  \n",
      "(CVXPY) Nov 17 03:25:30 PM: 3   3.6e-03  7.2e-02  3.6e-03  1.13e+00   1.858527520e+01   1.821977923e+01   3.6e-03  0.11  \n",
      "(CVXPY) Nov 17 03:25:30 PM: 4   5.3e-04  1.1e-02  1.2e-04  1.47e+00   1.818276092e+01   1.816929518e+01   5.3e-04  0.11  \n",
      "(CVXPY) Nov 17 03:25:30 PM: 5   1.4e-05  2.8e-04  6.0e-07  1.18e+00   1.813848080e+01   1.813792396e+01   1.4e-05  0.11  \n",
      "(CVXPY) Nov 17 03:25:30 PM: 6   1.9e-07  3.9e-06  9.6e-10  1.00e+00   1.813870792e+01   1.813870042e+01   1.9e-07  0.11  \n",
      "(CVXPY) Nov 17 03:25:30 PM: 7   1.6e-08  3.2e-07  2.3e-11  1.00e+00   1.813870550e+01   1.813870486e+01   1.6e-08  0.11  \n",
      "(CVXPY) Nov 17 03:25:30 PM: 8   7.5e-10  1.5e-08  2.3e-13  1.00e+00   1.813870494e+01   1.813870491e+01   7.5e-10  0.11  \n",
      "(CVXPY) Nov 17 03:25:30 PM: Optimizer terminated. Time: 0.16    \n",
      "(CVXPY) Nov 17 03:25:30 PM: \n",
      "(CVXPY) Nov 17 03:25:30 PM: \n",
      "(CVXPY) Nov 17 03:25:30 PM: Interior-point solution summary\n",
      "(CVXPY) Nov 17 03:25:30 PM:   Problem status  : PRIMAL_AND_DUAL_FEASIBLE\n",
      "(CVXPY) Nov 17 03:25:30 PM:   Solution status : OPTIMAL\n",
      "(CVXPY) Nov 17 03:25:30 PM:   Primal.  obj: 1.8138704943e+01    nrm: 1e+00    Viol.  con: 4e-09    var: 0e+00    cones: 3e-09  \n",
      "(CVXPY) Nov 17 03:25:30 PM:   Dual.    obj: 1.8138704913e+01    nrm: 4e+01    Viol.  con: 0e+00    var: 2e-07    cones: 0e+00  \n",
      "-------------------------------------------------------------------------------\n",
      "                                    Summary                                    \n",
      "-------------------------------------------------------------------------------\n",
      "(CVXPY) Nov 17 03:25:30 PM: Problem status: optimal\n",
      "(CVXPY) Nov 17 03:25:30 PM: Optimal value: 1.814e+01\n",
      "(CVXPY) Nov 17 03:25:30 PM: Compilation took 3.638e-02 seconds\n",
      "(CVXPY) Nov 17 03:25:30 PM: Solver (including time spent in interface) took 2.049e-01 seconds\n"
     ]
    }
   ],
   "source": [
    "# Required Python packages\n",
    "import numpy as np\n",
    "import cvxpy as cp\n",
    "import os\n",
    "import matplotlib.pyplot as plt\n",
    "import time as t\n",
    "\n",
    "# Load data\n",
    "\n",
    "x = np.load('data/p2x.npy')\n",
    "y = np.load('data/p2y.npy')\n",
    "\n",
    "rho = 1   # regularization parameter\n",
    "delta = 1 # Huber loss parameter\n",
    "\n",
    "# +-----------------+\n",
    "# | Your Code Here! |\n",
    "# +-----------------+\n",
    "\n",
    "#Problem 2 implementation\n",
    "m = x.shape[0]\n",
    "n = x.shape[1]\n",
    "\n",
    "#Define Variable\n",
    "t = cp.Variable((m,1))\n",
    "r_p = cp.Variable((m,1), nonneg=True)\n",
    "r_n = cp.Variable((m,1), nonneg=True)\n",
    "w = cp.Variable(1)\n",
    "b = cp.Variable(1)\n",
    "obj = cp.Variable(1)\n",
    "\n",
    "constraints = [ \n",
    "#    w*x + cp.reshape(b * np.ones(m),(m,1)) - cp.reshape(y,(m,1)) - t <= r_p,\n",
    "#    cp.reshape(y,(m,1)) - w*x - cp.reshape(b * np.ones(m),(m,1)) + t <= r_n,\n",
    "    1/2 * cp.norm2(w*x+cp.reshape(b * np.ones(m),(m,1)) - cp.reshape(y,(m,1))) +  rho/2 * cp.norm2(w) <= obj\n",
    "    ]\n",
    "\n",
    "#Define Objective\n",
    "objective = cp.Minimize(obj)\n",
    "prob = cp.Problem(objective, constraints)\n",
    "prob.solve(solver=cp.MOSEK, verbose=True)\n",
    "\n",
    "y_predict = w.value*x + (b.value * np.ones(m)).reshape((m,1))"
   ]
  },
  {
   "cell_type": "code",
   "execution_count": 2,
   "metadata": {},
   "outputs": [
    {
     "name": "stdout",
     "output_type": "stream",
     "text": [
      "[4.49181582]\n",
      "[0.624052]\n"
     ]
    },
    {
     "data": {
      "text/plain": [
       "<matplotlib.collections.PathCollection at 0x1338ff97f40>"
      ]
     },
     "execution_count": 2,
     "metadata": {},
     "output_type": "execute_result"
    },
    {
     "data": {
      "image/png": "[encoded data removed]",
      "text/plain": [
       "<Figure size 800x800 with 1 Axes>"
      ]
     },
     "metadata": {},
     "output_type": "display_data"
    }
   ],
   "source": [
    "print(b.value)\n",
    "print(w.value)\n",
    "plt.figure(figsize=(8,8))\n",
    "plt.scatter([xi for xi in x],[yi for yi in y], s=15, c = \"#1f77b4\")\n",
    "plt.scatter([xi for xi in x],[yi for yi in y_predict], s=15, c = \"#ff7f0e\")"
   ]
  }
 ],
 "metadata": {
  "kernelspec": {
   "display_name": "convex",
   "language": "python",
   "name": "python3"
  },
  "language_info": {
   "codemirror_mode": {
    "name": "ipython",
    "version": 3
   },
   "file_extension": ".py",
   "mimetype": "text/x-python",
   "name": "python",
   "nbconvert_exporter": "python",
   "pygments_lexer": "ipython3",
   "version": "3.8.18"
  }
 },
 "nbformat": 4,
 "nbformat_minor": 2
}
