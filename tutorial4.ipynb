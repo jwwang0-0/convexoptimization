{
 "cells": [
  {
   "cell_type": "markdown",
   "metadata": {},
   "source": [
    "#Question 1"
   ]
  },
  {
   "cell_type": "code",
   "execution_count": 27,
   "metadata": {},
   "outputs": [],
   "source": [
    "import cvxpy as cp\n",
    "import numpy as np\n",
    "\n",
    "# Define known quantity\n",
    "D = np.array([3475, 1223, 2260, 2700, 2950])\n",
    "M = np.array([0, 0.47 , 0.5, 0.4, 0.3])\n",
    "S = np.array([2000, 1600, 1000, 990, 2800])\n",
    "T = np.array([0.85, 0.9, 0.85, 0.85, 0.9]) \n",
    "I = np.ones(5)\n",
    "ZERO = np.zeros((5,5))\n",
    "Prod = np.array([[1,1,0,0,0],\n",
    "                [1,1,1,1,0],\n",
    "                [0,1,1,1,1],\n",
    "                [0,1,1,0,1],\n",
    "                [0,0,0,0,1]]\n",
    "                )\n",
    "#Define Variable\n",
    "F = cp.Variable(5, nonneg=True)\n",
    "R = cp.Variable((5,5), nonneg=True)\n",
    "\n",
    "#Define Constraint\n",
    "constraints = [ \n",
    "    cp.multiply(M, D) <= F,\n",
    "    D <= cp.multiply((I.T@R).T ,T) + F, \n",
    "    R@I <= S,\n",
    "    cp.multiply(R,(np.ones((5,5))-Prod)).sum() == 0\n",
    "    ]"
   ]
  },
  {
   "cell_type": "code",
   "execution_count": 28,
   "metadata": {},
   "outputs": [
    {
     "name": "stdout",
     "output_type": "stream",
     "text": [
      "===============================================================================\n",
      "                                     CVXPY                                     \n",
      "                                     v1.4.1                                    \n",
      "===============================================================================\n",
      "(CVXPY) Oct 15 09:36:20 PM: Your problem has 30 variables, 4 constraints, and 0 parameters.\n",
      "(CVXPY) Oct 15 09:36:20 PM: It is compliant with the following grammars: DCP, DQCP\n",
      "(CVXPY) Oct 15 09:36:20 PM: (If you need to solve this problem multiple times, but with different data, consider using parameters.)\n",
      "(CVXPY) Oct 15 09:36:20 PM: CVXPY will first compile your problem; then, it will invoke a numerical solver to obtain a solution.\n",
      "(CVXPY) Oct 15 09:36:20 PM: Your problem is compiled with the CPP canonicalization backend.\n",
      "-------------------------------------------------------------------------------\n",
      "                                  Compilation                                  \n",
      "-------------------------------------------------------------------------------\n",
      "(CVXPY) Oct 15 09:36:20 PM: Compiling problem (target solver=MOSEK).\n",
      "(CVXPY) Oct 15 09:36:20 PM: Reduction chain: Dcp2Cone -> CvxAttr2Constr -> ConeMatrixStuffing -> MOSEK\n",
      "(CVXPY) Oct 15 09:36:20 PM: Applying reduction Dcp2Cone\n",
      "(CVXPY) Oct 15 09:36:20 PM: Applying reduction CvxAttr2Constr\n",
      "(CVXPY) Oct 15 09:36:20 PM: Applying reduction ConeMatrixStuffing\n",
      "(CVXPY) Oct 15 09:36:20 PM: Applying reduction MOSEK\n",
      "(CVXPY) Oct 15 09:36:20 PM: Finished problem compilation (took 1.400e-02 seconds).\n",
      "-------------------------------------------------------------------------------\n",
      "                                Numerical solver                               \n",
      "-------------------------------------------------------------------------------\n",
      "(CVXPY) Oct 15 09:36:20 PM: Invoking solver MOSEK  to obtain a solution.\n",
      "\n",
      "\n",
      "(CVXPY) Oct 15 09:36:20 PM: Problem\n",
      "(CVXPY) Oct 15 09:36:20 PM:   Name                   :                 \n",
      "(CVXPY) Oct 15 09:36:20 PM:   Objective sense        : maximize        \n",
      "(CVXPY) Oct 15 09:36:20 PM:   Type                   : LO (linear optimization problem)\n",
      "(CVXPY) Oct 15 09:36:20 PM:   Constraints            : 30              \n",
      "(CVXPY) Oct 15 09:36:20 PM:   Affine conic cons.     : 0               \n",
      "(CVXPY) Oct 15 09:36:20 PM:   Disjunctive cons.      : 0               \n",
      "(CVXPY) Oct 15 09:36:20 PM:   Cones                  : 0               \n",
      "(CVXPY) Oct 15 09:36:20 PM:   Scalar variables       : 46              \n",
      "(CVXPY) Oct 15 09:36:20 PM:   Matrix variables       : 0               \n",
      "(CVXPY) Oct 15 09:36:20 PM:   Integer variables      : 0               \n",
      "(CVXPY) Oct 15 09:36:20 PM: \n",
      "(CVXPY) Oct 15 09:36:20 PM: Optimizer started.\n",
      "(CVXPY) Oct 15 09:36:20 PM: Presolve started.\n",
      "(CVXPY) Oct 15 09:36:20 PM: Eliminator started.\n",
      "(CVXPY) Oct 15 09:36:20 PM: Freed constraints in eliminator : 5\n",
      "(CVXPY) Oct 15 09:36:20 PM: Eliminator terminated.\n",
      "(CVXPY) Oct 15 09:36:20 PM: Linear dependency checker started.\n",
      "(CVXPY) Oct 15 09:36:20 PM: Linear dependency checker terminated.\n",
      "(CVXPY) Oct 15 09:36:20 PM: Eliminator started.\n",
      "(CVXPY) Oct 15 09:36:20 PM: Freed constraints in eliminator : 0\n",
      "(CVXPY) Oct 15 09:36:20 PM: Eliminator terminated.\n",
      "(CVXPY) Oct 15 09:36:20 PM: Eliminator - tries                  : 2                 time                   : 0.00            \n",
      "(CVXPY) Oct 15 09:36:20 PM: Lin. dep.  - tries                  : 1                 time                   : 0.00            \n",
      "(CVXPY) Oct 15 09:36:20 PM: Lin. dep.  - primal attempts        : 1                 successes              : 1               \n",
      "(CVXPY) Oct 15 09:36:20 PM: Lin. dep.  - dual attempts          : 0                 successes              : 0               \n",
      "(CVXPY) Oct 15 09:36:20 PM: Lin. dep.  - primal deps.           : 0                 dual deps.             : 0               \n",
      "(CVXPY) Oct 15 09:36:20 PM: Presolve terminated. Time: 0.00    \n",
      "(CVXPY) Oct 15 09:36:20 PM: Optimizer  - threads                : 14              \n",
      "(CVXPY) Oct 15 09:36:20 PM: Optimizer  - solved problem         : the primal      \n",
      "(CVXPY) Oct 15 09:36:20 PM: Optimizer  - Constraints            : 9               \n",
      "(CVXPY) Oct 15 09:36:20 PM: Optimizer  - Cones                  : 0               \n",
      "(CVXPY) Oct 15 09:36:20 PM: Optimizer  - Scalar variables       : 16                conic                  : 0               \n",
      "(CVXPY) Oct 15 09:36:20 PM: Optimizer  - Semi-definite variables: 0                 scalarized             : 0               \n",
      "(CVXPY) Oct 15 09:36:20 PM: Factor     - setup time             : 0.00            \n",
      "(CVXPY) Oct 15 09:36:20 PM: Factor     - dense det. time        : 0.00              GP order time          : 0.00            \n",
      "(CVXPY) Oct 15 09:36:20 PM: Factor     - nonzeros before factor : 36                after factor           : 37              \n",
      "(CVXPY) Oct 15 09:36:20 PM: Factor     - dense dim.             : 0                 flops                  : 3.05e+02        \n",
      "(CVXPY) Oct 15 09:36:20 PM: ITE PFEAS    DFEAS    GFEAS    PRSTATUS   POBJ              DOBJ              MU       TIME  \n",
      "(CVXPY) Oct 15 09:36:20 PM: 0   5.3e-01  7.6e+02  2.2e+03  0.00e+00   4.718643611e+03   6.789414431e+03   2.0e+02  0.00  \n",
      "(CVXPY) Oct 15 09:36:20 PM: 1   1.3e-01  1.9e+02  5.5e+02  1.12e+00   5.432279104e+03   5.883461178e+03   5.1e+01  0.02  \n",
      "(CVXPY) Oct 15 09:36:20 PM: 2   3.3e-03  4.7e+00  1.4e+01  1.18e+00   5.748378036e+03   5.758494566e+03   1.3e+00  0.02  \n",
      "(CVXPY) Oct 15 09:36:20 PM: 3   2.2e-05  3.2e-02  9.4e-02  1.01e+00   5.755457039e+03   5.755525843e+03   8.6e-03  0.02  \n",
      "(CVXPY) Oct 15 09:36:20 PM: 4   2.3e-09  3.2e-06  9.5e-06  1.00e+00   5.755489441e+03   5.755489448e+03   8.7e-07  0.02  \n",
      "(CVXPY) Oct 15 09:36:20 PM: 5   2.3e-13  3.2e-10  8.2e-10  1.00e+00   5.755489444e+03   5.755489444e+03   8.7e-11  0.02  \n",
      "(CVXPY) Oct 15 09:36:20 PM: Optimizer terminated. Time: 0.03    \n",
      "(CVXPY) Oct 15 09:36:20 PM: \n",
      "(CVXPY) Oct 15 09:36:20 PM: \n",
      "(CVXPY) Oct 15 09:36:20 PM: Interior-point solution summary\n",
      "(CVXPY) Oct 15 09:36:20 PM:   Problem status  : PRIMAL_AND_DUAL_FEASIBLE\n",
      "(CVXPY) Oct 15 09:36:20 PM:   Solution status : OPTIMAL\n",
      "(CVXPY) Oct 15 09:36:20 PM:   Primal.  obj: 5.7554894444e+03    nrm: 2e+00    Viol.  con: 1e-13    var: 2e-13  \n",
      "(CVXPY) Oct 15 09:36:20 PM:   Dual.    obj: 5.7554894444e+03    nrm: 3e+03    Viol.  con: 0e+00    var: 2e-10  \n",
      "-------------------------------------------------------------------------------\n",
      "                                    Summary                                    \n",
      "-------------------------------------------------------------------------------\n",
      "(CVXPY) Oct 15 09:36:20 PM: Problem status: optimal\n",
      "(CVXPY) Oct 15 09:36:20 PM: Optimal value: 5.755e+03\n",
      "(CVXPY) Oct 15 09:36:20 PM: Compilation took 1.400e-02 seconds\n",
      "(CVXPY) Oct 15 09:36:20 PM: Solver (including time spent in interface) took 3.400e-02 seconds\n"
     ]
    },
    {
     "data": {
      "text/plain": [
       "5755.489444444713"
      ]
     },
     "execution_count": 28,
     "metadata": {},
     "output_type": "execute_result"
    }
   ],
   "source": [
    "\n",
    "#Define Objective\n",
    "objective = cp.Minimize(F.T@I)\n",
    "prob = cp.Problem(objective, constraints)\n",
    "prob.solve(solver=cp.MOSEK, verbose=True)"
   ]
  },
  {
   "cell_type": "markdown",
   "metadata": {},
   "source": [
    "Result"
   ]
  },
  {
   "cell_type": "code",
   "execution_count": 29,
   "metadata": {},
   "outputs": [
    {
     "name": "stdout",
     "output_type": "stream",
     "text": [
      "F:  [1325.86990549  574.81000001 1302.8330352  1666.97650376  885.        ]\n",
      "R:  [[1827.46715478  172.53284522    0.            0.            0.        ]\n",
      " [ 700.92119171   96.24630445  218.24180288  584.59070095    0.        ]\n",
      " [   0.          128.98739744  240.28154322  630.73105933    0.        ]\n",
      " [   0.          322.44456399  667.55543601    0.            0.        ]\n",
      " [   0.            0.            0.            0.         2800.        ]]\n"
     ]
    }
   ],
   "source": [
    "print(\"F: \", F.value)\n",
    "print(\"R: \" ,R.value)"
   ]
  },
  {
   "cell_type": "markdown",
   "metadata": {},
   "source": [
    "Varification"
   ]
  },
  {
   "cell_type": "code",
   "execution_count": 37,
   "metadata": {},
   "outputs": [
    {
     "name": "stdout",
     "output_type": "stream",
     "text": [
      "[   0.    574.81 1130.   1080.    885.  ]\n",
      "Production: [3475. 1223. 2260. 2700. 3405.]\n",
      "Used Recycle from each type of paper [2000. 1600. 1000.  990. 2800.]\n"
     ]
    }
   ],
   "source": [
    "print(np.multiply(M, D))\n",
    "print(\"Production:\" , np.multiply((I.T@R.value).T ,T) + F.value)\n",
    "print(\"Used Recycle from each type of paper\",R.value@I)"
   ]
  },
  {
   "cell_type": "markdown",
   "metadata": {},
   "source": [
    "#Question 2"
   ]
  }
 ],
 "metadata": {
  "kernelspec": {
   "display_name": "convex",
   "language": "python",
   "name": "python3"
  },
  "language_info": {
   "codemirror_mode": {
    "name": "ipython",
    "version": 3
   },
   "file_extension": ".py",
   "mimetype": "text/x-python",
   "name": "python",
   "nbconvert_exporter": "python",
   "pygments_lexer": "ipython3",
   "version": "3.8.18"
  }
 },
 "nbformat": 4,
 "nbformat_minor": 2
}
