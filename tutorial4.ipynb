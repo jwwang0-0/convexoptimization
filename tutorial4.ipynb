{
 "cells": [
  {
   "cell_type": "markdown",
   "metadata": {},
   "source": [
    "#Question 1"
   ]
  },
  {
   "cell_type": "code",
   "execution_count": 27,
   "metadata": {},
   "outputs": [],
   "source": [
    "import cvxpy as cp\n",
    "import numpy as np\n",
    "\n",
    "# Define known quantity\n",
    "D = np.array([3475, 1223, 2260, 2700, 2950])\n",
    "M = np.array([0, 0.47 , 0.5, 0.4, 0.3])\n",
    "S = np.array([2000, 1600, 1000, 990, 2800])\n",
    "T = np.array([0.85, 0.9, 0.85, 0.85, 0.9]) \n",
    "I = np.ones(5)\n",
    "ZERO = np.zeros((5,5))\n",
    "Prod = np.array([[1,1,0,0,0],\n",
    "                [1,1,1,1,0],\n",
    "                [0,1,1,1,1],\n",
    "                [0,1,1,0,1],\n",
    "                [0,0,0,0,1]]\n",
    "                )\n",
    "#Define Variable\n",
    "F = cp.Variable(5, nonneg=True)\n",
    "R = cp.Variable((5,5), nonneg=True)\n",
    "\n",
    "#Define Constraint\n",
    "constraints = [ \n",
    "    cp.multiply(M, D) <= F,\n",
    "    D <= cp.multiply((I.T@R).T ,T) + F, \n",
    "    R@I <= S,\n",
    "    cp.multiply(R,(np.ones((5,5))-Prod)).sum() == 0\n",
    "    ]"
   ]
  },
  {
   "cell_type": "code",
   "execution_count": 28,
   "metadata": {},
   "outputs": [
    {
     "name": "stdout",
     "output_type": "stream",
     "text": [
      "===============================================================================\n",
      "                                     CVXPY                                     \n",
      "                                     v1.4.1                                    \n",
      "===============================================================================\n",
      "(CVXPY) Oct 15 09:36:20 PM: Your problem has 30 variables, 4 constraints, and 0 parameters.\n",
      "(CVXPY) Oct 15 09:36:20 PM: It is compliant with the following grammars: DCP, DQCP\n",
      "(CVXPY) Oct 15 09:36:20 PM: (If you need to solve this problem multiple times, but with different data, consider using parameters.)\n",
      "(CVXPY) Oct 15 09:36:20 PM: CVXPY will first compile your problem; then, it will invoke a numerical solver to obtain a solution.\n",
      "(CVXPY) Oct 15 09:36:20 PM: Your problem is compiled with the CPP canonicalization backend.\n",
      "-------------------------------------------------------------------------------\n",
      "                                  Compilation                                  \n",
      "-------------------------------------------------------------------------------\n",
      "(CVXPY) Oct 15 09:36:20 PM: Compiling problem (target solver=MOSEK).\n",
      "(CVXPY) Oct 15 09:36:20 PM: Reduction chain: Dcp2Cone -> CvxAttr2Constr -> ConeMatrixStuffing -> MOSEK\n",
      "(CVXPY) Oct 15 09:36:20 PM: Applying reduction Dcp2Cone\n",
      "(CVXPY) Oct 15 09:36:20 PM: Applying reduction CvxAttr2Constr\n",
      "(CVXPY) Oct 15 09:36:20 PM: Applying reduction ConeMatrixStuffing\n",
      "(CVXPY) Oct 15 09:36:20 PM: Applying reduction MOSEK\n",
      "(CVXPY) Oct 15 09:36:20 PM: Finished problem compilation (took 1.400e-02 seconds).\n",
      "-------------------------------------------------------------------------------\n",
      "                                Numerical solver                               \n",
      "-------------------------------------------------------------------------------\n",
      "(CVXPY) Oct 15 09:36:20 PM: Invoking solver MOSEK  to obtain a solution.\n",
      "\n",
      "\n",
      "(CVXPY) Oct 15 09:36:20 PM: Problem\n",
      "(CVXPY) Oct 15 09:36:20 PM:   Name                   :                 \n",
      "(CVXPY) Oct 15 09:36:20 PM:   Objective sense        : maximize        \n",
      "(CVXPY) Oct 15 09:36:20 PM:   Type                   : LO (linear optimization problem)\n",
      "(CVXPY) Oct 15 09:36:20 PM:   Constraints            : 30              \n",
      "(CVXPY) Oct 15 09:36:20 PM:   Affine conic cons.     : 0               \n",
      "(CVXPY) Oct 15 09:36:20 PM:   Disjunctive cons.      : 0               \n",
      "(CVXPY) Oct 15 09:36:20 PM:   Cones                  : 0               \n",
      "(CVXPY) Oct 15 09:36:20 PM:   Scalar variables       : 46              \n",
      "(CVXPY) Oct 15 09:36:20 PM:   Matrix variables       : 0               \n",
      "(CVXPY) Oct 15 09:36:20 PM:   Integer variables      : 0               \n",
      "(CVXPY) Oct 15 09:36:20 PM: \n",
      "(CVXPY) Oct 15 09:36:20 PM: Optimizer started.\n",
      "(CVXPY) Oct 15 09:36:20 PM: Presolve started.\n",
      "(CVXPY) Oct 15 09:36:20 PM: Eliminator started.\n",
      "(CVXPY) Oct 15 09:36:20 PM: Freed constraints in eliminator : 5\n",
      "(CVXPY) Oct 15 09:36:20 PM: Eliminator terminated.\n",
      "(CVXPY) Oct 15 09:36:20 PM: Linear dependency checker started.\n",
      "(CVXPY) Oct 15 09:36:20 PM: Linear dependency checker terminated.\n",
      "(CVXPY) Oct 15 09:36:20 PM: Eliminator started.\n",
      "(CVXPY) Oct 15 09:36:20 PM: Freed constraints in eliminator : 0\n",
      "(CVXPY) Oct 15 09:36:20 PM: Eliminator terminated.\n",
      "(CVXPY) Oct 15 09:36:20 PM: Eliminator - tries                  : 2                 time                   : 0.00            \n",
      "(CVXPY) Oct 15 09:36:20 PM: Lin. dep.  - tries                  : 1                 time                   : 0.00            \n",
      "(CVXPY) Oct 15 09:36:20 PM: Lin. dep.  - primal attempts        : 1                 successes              : 1               \n",
      "(CVXPY) Oct 15 09:36:20 PM: Lin. dep.  - dual attempts          : 0                 successes              : 0               \n",
      "(CVXPY) Oct 15 09:36:20 PM: Lin. dep.  - primal deps.           : 0                 dual deps.             : 0               \n",
      "(CVXPY) Oct 15 09:36:20 PM: Presolve terminated. Time: 0.00    \n",
      "(CVXPY) Oct 15 09:36:20 PM: Optimizer  - threads                : 14              \n",
      "(CVXPY) Oct 15 09:36:20 PM: Optimizer  - solved problem         : the primal      \n",
      "(CVXPY) Oct 15 09:36:20 PM: Optimizer  - Constraints            : 9               \n",
      "(CVXPY) Oct 15 09:36:20 PM: Optimizer  - Cones                  : 0               \n",
      "(CVXPY) Oct 15 09:36:20 PM: Optimizer  - Scalar variables       : 16                conic                  : 0               \n",
      "(CVXPY) Oct 15 09:36:20 PM: Optimizer  - Semi-definite variables: 0                 scalarized             : 0               \n",
      "(CVXPY) Oct 15 09:36:20 PM: Factor     - setup time             : 0.00            \n",
      "(CVXPY) Oct 15 09:36:20 PM: Factor     - dense det. time        : 0.00              GP order time          : 0.00            \n",
      "(CVXPY) Oct 15 09:36:20 PM: Factor     - nonzeros before factor : 36                after factor           : 37              \n",
      "(CVXPY) Oct 15 09:36:20 PM: Factor     - dense dim.             : 0                 flops                  : 3.05e+02        \n",
      "(CVXPY) Oct 15 09:36:20 PM: ITE PFEAS    DFEAS    GFEAS    PRSTATUS   POBJ              DOBJ              MU       TIME  \n",
      "(CVXPY) Oct 15 09:36:20 PM: 0   5.3e-01  7.6e+02  2.2e+03  0.00e+00   4.718643611e+03   6.789414431e+03   2.0e+02  0.00  \n",
      "(CVXPY) Oct 15 09:36:20 PM: 1   1.3e-01  1.9e+02  5.5e+02  1.12e+00   5.432279104e+03   5.883461178e+03   5.1e+01  0.02  \n",
      "(CVXPY) Oct 15 09:36:20 PM: 2   3.3e-03  4.7e+00  1.4e+01  1.18e+00   5.748378036e+03   5.758494566e+03   1.3e+00  0.02  \n",
      "(CVXPY) Oct 15 09:36:20 PM: 3   2.2e-05  3.2e-02  9.4e-02  1.01e+00   5.755457039e+03   5.755525843e+03   8.6e-03  0.02  \n",
      "(CVXPY) Oct 15 09:36:20 PM: 4   2.3e-09  3.2e-06  9.5e-06  1.00e+00   5.755489441e+03   5.755489448e+03   8.7e-07  0.02  \n",
      "(CVXPY) Oct 15 09:36:20 PM: 5   2.3e-13  3.2e-10  8.2e-10  1.00e+00   5.755489444e+03   5.755489444e+03   8.7e-11  0.02  \n",
      "(CVXPY) Oct 15 09:36:20 PM: Optimizer terminated. Time: 0.03    \n",
      "(CVXPY) Oct 15 09:36:20 PM: \n",
      "(CVXPY) Oct 15 09:36:20 PM: \n",
      "(CVXPY) Oct 15 09:36:20 PM: Interior-point solution summary\n",
      "(CVXPY) Oct 15 09:36:20 PM:   Problem status  : PRIMAL_AND_DUAL_FEASIBLE\n",
      "(CVXPY) Oct 15 09:36:20 PM:   Solution status : OPTIMAL\n",
      "(CVXPY) Oct 15 09:36:20 PM:   Primal.  obj: 5.7554894444e+03    nrm: 2e+00    Viol.  con: 1e-13    var: 2e-13  \n",
      "(CVXPY) Oct 15 09:36:20 PM:   Dual.    obj: 5.7554894444e+03    nrm: 3e+03    Viol.  con: 0e+00    var: 2e-10  \n",
      "-------------------------------------------------------------------------------\n",
      "                                    Summary                                    \n",
      "-------------------------------------------------------------------------------\n",
      "(CVXPY) Oct 15 09:36:20 PM: Problem status: optimal\n",
      "(CVXPY) Oct 15 09:36:20 PM: Optimal value: 5.755e+03\n",
      "(CVXPY) Oct 15 09:36:20 PM: Compilation took 1.400e-02 seconds\n",
      "(CVXPY) Oct 15 09:36:20 PM: Solver (including time spent in interface) took 3.400e-02 seconds\n"
     ]
    },
    {
     "data": {
      "text/plain": [
       "5755.489444444713"
      ]
     },
     "execution_count": 28,
     "metadata": {},
     "output_type": "execute_result"
    }
   ],
   "source": [
    "\n",
    "#Define Objective\n",
    "objective = cp.Minimize(F.T@I)\n",
    "prob = cp.Problem(objective, constraints)\n",
    "prob.solve(solver=cp.MOSEK, verbose=True)"
   ]
  },
  {
   "cell_type": "markdown",
   "metadata": {},
   "source": [
    "Result"
   ]
  },
  {
   "cell_type": "code",
   "execution_count": 29,
   "metadata": {},
   "outputs": [
    {
     "name": "stdout",
     "output_type": "stream",
     "text": [
      "F:  [1325.86990549  574.81000001 1302.8330352  1666.97650376  885.        ]\n",
      "R:  [[1827.46715478  172.53284522    0.            0.            0.        ]\n",
      " [ 700.92119171   96.24630445  218.24180288  584.59070095    0.        ]\n",
      " [   0.          128.98739744  240.28154322  630.73105933    0.        ]\n",
      " [   0.          322.44456399  667.55543601    0.            0.        ]\n",
      " [   0.            0.            0.            0.         2800.        ]]\n"
     ]
    }
   ],
   "source": [
    "print(\"F: \", F.value)\n",
    "print(\"R: \" ,R.value)"
   ]
  },
  {
   "cell_type": "markdown",
   "metadata": {},
   "source": [
    "Varification"
   ]
  },
  {
   "cell_type": "code",
   "execution_count": 37,
   "metadata": {},
   "outputs": [
    {
     "name": "stdout",
     "output_type": "stream",
     "text": [
      "[   0.    574.81 1130.   1080.    885.  ]\n",
      "Production: [3475. 1223. 2260. 2700. 3405.]\n",
      "Used Recycle from each type of paper [2000. 1600. 1000.  990. 2800.]\n"
     ]
    }
   ],
   "source": [
    "print(np.multiply(M, D))\n",
    "print(\"Production:\" , np.multiply((I.T@R.value).T ,T) + F.value)\n",
    "print(\"Used Recycle from each type of paper\",R.value@I)"
   ]
  },
  {
   "cell_type": "markdown",
   "metadata": {},
   "source": [
    "#Question 2"
   ]
  },
  {
   "cell_type": "code",
   "execution_count": 1,
   "metadata": {},
   "outputs": [],
   "source": [
    "import cvxpy as cp\n",
    "import numpy as np\n",
    "\n",
    "A = np.array(\n",
    "    [[-1,0.4,0.8],\n",
    "     [1,0,0],\n",
    "     [0,1,0]\n",
    "     ]\n",
    ")\n",
    "b = np.array([1,0,0.5])\n",
    "x_des = np.array([7,2,-6])\n",
    "I = np.ones(10)\n"
   ]
  },
  {
   "cell_type": "code",
   "execution_count": 4,
   "metadata": {},
   "outputs": [
    {
     "name": "stdout",
     "output_type": "stream",
     "text": [
      "[Equality(Expression(AFFINE, UNKNOWN, (3,)), Expression(AFFINE, UNKNOWN, (3,))), Equality(Expression(AFFINE, UNKNOWN, (3,)), Expression(AFFINE, UNKNOWN, (3,))), Equality(Expression(AFFINE, UNKNOWN, (3,)), Expression(AFFINE, UNKNOWN, (3,))), Equality(Expression(AFFINE, UNKNOWN, (3,)), Expression(AFFINE, UNKNOWN, (3,))), Equality(Expression(AFFINE, UNKNOWN, (3,)), Expression(AFFINE, UNKNOWN, (3,))), Equality(Expression(AFFINE, UNKNOWN, (3,)), Expression(AFFINE, UNKNOWN, (3,))), Equality(Expression(AFFINE, UNKNOWN, (3,)), Expression(AFFINE, UNKNOWN, (3,))), Equality(Expression(AFFINE, UNKNOWN, (3,)), Expression(AFFINE, UNKNOWN, (3,))), Equality(Expression(AFFINE, UNKNOWN, (3,)), Expression(AFFINE, UNKNOWN, (3,))), Equality(Expression(AFFINE, UNKNOWN, (3,)), Expression(AFFINE, UNKNOWN, (3,)))]\n",
      "===============================================================================\n",
      "                                     CVXPY                                     \n",
      "                                     v1.4.1                                    \n",
      "===============================================================================\n",
      "(CVXPY) Oct 15 11:22:39 PM: Your problem has 53 variables, 32 constraints, and 0 parameters.\n",
      "(CVXPY) Oct 15 11:22:39 PM: It is compliant with the following grammars: DCP, DQCP\n",
      "(CVXPY) Oct 15 11:22:39 PM: (If you need to solve this problem multiple times, but with different data, consider using parameters.)\n",
      "(CVXPY) Oct 15 11:22:39 PM: CVXPY will first compile your problem; then, it will invoke a numerical solver to obtain a solution.\n",
      "(CVXPY) Oct 15 11:22:39 PM: Your problem is compiled with the CPP canonicalization backend.\n",
      "-------------------------------------------------------------------------------\n",
      "                                  Compilation                                  \n",
      "-------------------------------------------------------------------------------\n",
      "(CVXPY) Oct 15 11:22:39 PM: Compiling problem (target solver=MOSEK).\n",
      "(CVXPY) Oct 15 11:22:39 PM: Reduction chain: Dcp2Cone -> CvxAttr2Constr -> ConeMatrixStuffing -> MOSEK\n",
      "(CVXPY) Oct 15 11:22:39 PM: Applying reduction Dcp2Cone\n",
      "(CVXPY) Oct 15 11:22:39 PM: Applying reduction CvxAttr2Constr\n",
      "(CVXPY) Oct 15 11:22:39 PM: Applying reduction ConeMatrixStuffing\n",
      "(CVXPY) Oct 15 11:22:39 PM: Applying reduction MOSEK\n"
     ]
    },
    {
     "name": "stdout",
     "output_type": "stream",
     "text": [
      "(CVXPY) Oct 15 11:22:39 PM: Finished problem compilation (took 3.811e-02 seconds).\n",
      "-------------------------------------------------------------------------------\n",
      "                                Numerical solver                               \n",
      "-------------------------------------------------------------------------------\n",
      "(CVXPY) Oct 15 11:22:39 PM: Invoking solver MOSEK  to obtain a solution.\n",
      "\n",
      "\n",
      "(CVXPY) Oct 15 11:22:39 PM: Problem\n",
      "(CVXPY) Oct 15 11:22:39 PM:   Name                   :                 \n",
      "(CVXPY) Oct 15 11:22:39 PM:   Objective sense        : maximize        \n",
      "(CVXPY) Oct 15 11:22:39 PM:   Type                   : CONIC (conic optimization problem)\n",
      "(CVXPY) Oct 15 11:22:39 PM:   Constraints            : 73              \n",
      "(CVXPY) Oct 15 11:22:39 PM:   Affine conic cons.     : 0               \n",
      "(CVXPY) Oct 15 11:22:39 PM:   Disjunctive cons.      : 0               \n",
      "(CVXPY) Oct 15 11:22:39 PM:   Cones                  : 10              \n",
      "(CVXPY) Oct 15 11:22:39 PM:   Scalar variables       : 106             \n",
      "(CVXPY) Oct 15 11:22:39 PM:   Matrix variables       : 0               \n",
      "(CVXPY) Oct 15 11:22:39 PM:   Integer variables      : 0               \n",
      "(CVXPY) Oct 15 11:22:39 PM: \n",
      "(CVXPY) Oct 15 11:22:39 PM: Optimizer started.\n",
      "(CVXPY) Oct 15 11:22:39 PM: Presolve started.\n",
      "(CVXPY) Oct 15 11:22:39 PM: Linear dependency checker started.\n",
      "(CVXPY) Oct 15 11:22:39 PM: Linear dependency checker terminated.\n",
      "(CVXPY) Oct 15 11:22:39 PM: Eliminator started.\n",
      "(CVXPY) Oct 15 11:22:39 PM: Freed constraints in eliminator : 36\n",
      "(CVXPY) Oct 15 11:22:39 PM: Eliminator terminated.\n",
      "(CVXPY) Oct 15 11:22:39 PM: Eliminator started.\n",
      "(CVXPY) Oct 15 11:22:39 PM: Freed constraints in eliminator : 0\n",
      "(CVXPY) Oct 15 11:22:39 PM: Eliminator terminated.\n",
      "(CVXPY) Oct 15 11:22:39 PM: Eliminator - tries                  : 2                 time                   : 0.00            \n",
      "(CVXPY) Oct 15 11:22:39 PM: Lin. dep.  - tries                  : 1                 time                   : 0.00            \n",
      "(CVXPY) Oct 15 11:22:39 PM: Lin. dep.  - primal attempts        : 1                 successes              : 1               \n",
      "(CVXPY) Oct 15 11:22:39 PM: Lin. dep.  - dual attempts          : 0                 successes              : 0               \n",
      "(CVXPY) Oct 15 11:22:39 PM: Lin. dep.  - primal deps.           : 0                 dual deps.             : 0               \n",
      "(CVXPY) Oct 15 11:22:39 PM: Presolve terminated. Time: 0.01    \n",
      "(CVXPY) Oct 15 11:22:39 PM: Optimizer  - threads                : 14              \n",
      "(CVXPY) Oct 15 11:22:39 PM: Optimizer  - solved problem         : the primal      \n",
      "(CVXPY) Oct 15 11:22:39 PM: Optimizer  - Constraints            : 30              \n",
      "(CVXPY) Oct 15 11:22:39 PM: Optimizer  - Cones                  : 11              \n",
      "(CVXPY) Oct 15 11:22:39 PM: Optimizer  - Scalar variables       : 64                conic                  : 34              \n",
      "(CVXPY) Oct 15 11:22:39 PM: Optimizer  - Semi-definite variables: 0                 scalarized             : 0               \n",
      "(CVXPY) Oct 15 11:22:39 PM: Factor     - setup time             : 0.00            \n",
      "(CVXPY) Oct 15 11:22:39 PM: Factor     - dense det. time        : 0.00              GP order time          : 0.00            \n",
      "(CVXPY) Oct 15 11:22:39 PM: Factor     - nonzeros before factor : 105               after factor           : 105             \n",
      "(CVXPY) Oct 15 11:22:39 PM: Factor     - dense dim.             : 0                 flops                  : 1.24e+03        \n",
      "(CVXPY) Oct 15 11:22:39 PM: ITE PFEAS    DFEAS    GFEAS    PRSTATUS   POBJ              DOBJ              MU       TIME  \n",
      "(CVXPY) Oct 15 11:22:39 PM: 0   1.0e+00  2.0e+01  1.1e+01  0.00e+00   -1.000000000e+01  -0.000000000e+00  1.0e+00  0.01  \n",
      "(CVXPY) Oct 15 11:22:39 PM: 1   3.9e-01  7.9e+00  5.7e+00  -5.45e-01  6.216648007e+00   1.378229109e+01   3.9e-01  0.01  \n",
      "(CVXPY) Oct 15 11:22:39 PM: 2   1.1e-01  2.3e+00  2.2e+00  -6.73e-01  4.618414359e+01   4.942065910e+01   1.1e-01  0.01  \n",
      "(CVXPY) Oct 15 11:22:39 PM: 3   2.3e-02  4.7e-01  2.6e-01  1.07e-01   6.986829817e+01   7.067725136e+01   2.3e-02  0.01  \n",
      "(CVXPY) Oct 15 11:22:39 PM: 4   6.5e-03  1.3e-01  3.7e-02  8.92e-01   7.040490654e+01   7.064880650e+01   6.5e-03  0.01  \n",
      "(CVXPY) Oct 15 11:22:39 PM: 5   1.6e-03  3.3e-02  4.7e-03  1.01e+00   7.028883192e+01   7.034536581e+01   1.6e-03  0.01  \n",
      "(CVXPY) Oct 15 11:22:39 PM: 6   3.4e-04  6.8e-03  4.6e-04  9.96e-01   7.044305213e+01   7.045423807e+01   3.4e-04  0.01  \n",
      "(CVXPY) Oct 15 11:22:39 PM: 7   7.7e-05  1.5e-03  5.0e-05  9.98e-01   7.047591963e+01   7.047839894e+01   7.7e-05  0.01  \n",
      "(CVXPY) Oct 15 11:22:39 PM: 8   8.7e-06  1.7e-04  1.9e-06  9.99e-01   7.048657252e+01   7.048682808e+01   8.7e-06  0.01  \n",
      "(CVXPY) Oct 15 11:22:39 PM: 9   1.4e-07  2.7e-06  3.8e-09  1.00e+00   7.048735043e+01   7.048735440e+01   1.4e-07  0.01  \n",
      "(CVXPY) Oct 15 11:22:39 PM: 10  1.9e-09  3.8e-08  6.3e-12  1.00e+00   7.048736536e+01   7.048736541e+01   1.9e-09  0.01  \n",
      "(CVXPY) Oct 15 11:22:39 PM: Optimizer terminated. Time: 0.01    \n",
      "(CVXPY) Oct 15 11:22:39 PM: \n",
      "(CVXPY) Oct 15 11:22:39 PM: \n",
      "(CVXPY) Oct 15 11:22:39 PM: Interior-point solution summary\n",
      "(CVXPY) Oct 15 11:22:39 PM:   Problem status  : PRIMAL_AND_DUAL_FEASIBLE\n",
      "(CVXPY) Oct 15 11:22:39 PM:   Solution status : OPTIMAL\n",
      "(CVXPY) Oct 15 11:22:39 PM:   Primal.  obj: 7.0487365356e+01    nrm: 1e+01    Viol.  con: 3e-11    var: 2e-08    cones: 0e+00  \n",
      "(CVXPY) Oct 15 11:22:39 PM:   Dual.    obj: 7.0487365412e+01    nrm: 2e+01    Viol.  con: 0e+00    var: 3e-07    cones: 0e+00  \n",
      "-------------------------------------------------------------------------------\n",
      "                                    Summary                                    \n",
      "-------------------------------------------------------------------------------\n",
      "(CVXPY) Oct 15 11:22:39 PM: Problem status: optimal\n",
      "(CVXPY) Oct 15 11:22:39 PM: Optimal value: 7.049e+01\n",
      "(CVXPY) Oct 15 11:22:39 PM: Compilation took 3.811e-02 seconds\n",
      "(CVXPY) Oct 15 11:22:39 PM: Solver (including time spent in interface) took 4.100e-02 seconds\n"
     ]
    },
    {
     "data": {
      "text/plain": [
       "70.48736541182342"
      ]
     },
     "execution_count": 4,
     "metadata": {},
     "output_type": "execute_result"
    }
   ],
   "source": [
    "#Define Variable\n",
    "X = cp.Variable((11,3))\n",
    "U = cp.Variable(10)\n",
    "epi = cp.Variable(10)\n",
    "#Define Constraint\n",
    "constraints = [ \n",
    "    X[i + 1] == A @ X[i] + b*U[i] for i in range(10) \n",
    "    ]\n",
    "print(constraints)\n",
    "constraints.append(X[0] == np.array([0,0,0]))\n",
    "constraints.append(X[10] == x_des)\n",
    "constraints.extend([cp.abs(U[i])<= epi[i] for i in range(10)] )\n",
    "constraints.extend([cp.power(U[i],2)<= epi[i] for i in range(10)] )\n",
    "##why u[i]*u[i] not ok\n",
    "\n",
    "#Define Objective\n",
    "objective = cp.Minimize(epi.T@I)\n",
    "prob = cp.Problem(objective, constraints)\n",
    "prob.solve(solver=cp.MOSEK, verbose=True)"
   ]
  },
  {
   "cell_type": "code",
   "execution_count": 6,
   "metadata": {},
   "outputs": [
    {
     "name": "stdout",
     "output_type": "stream",
     "text": [
      "X [[-0.00000000e+00 -0.00000000e+00 -0.00000000e+00]\n",
      " [-1.09662933e+00  2.71963610e-07 -5.48314667e-01]\n",
      " [-3.42022266e-01 -1.09662933e+00 -4.99999716e-01]\n",
      " [ 2.17665468e+00 -3.42022266e-01  2.40012628e-01]\n",
      " [-5.78685220e+00  2.17665468e+00 -2.17472161e+00]\n",
      " [ 9.13413263e+00 -5.78685220e+00  4.28485260e+00]\n",
      " [-1.13693599e+01  9.13413263e+00 -7.46103646e+00]\n",
      " [ 1.14171111e+01 -1.13693599e+01  1.03155963e+01]\n",
      " [-7.71237810e+00  1.14171111e+01 -1.13693600e+01]\n",
      " [ 2.00000000e+00 -7.71237810e+00  1.08252438e+01]\n",
      " [ 7.00000000e+00  2.00000000e+00 -6.00000000e+00]]\n",
      "U [-1.09662933e+00 -9.99999975e-01  2.67328392e+00 -3.66539870e+00\n",
      "  4.21639583e+00 -3.34836851e+00  2.36292724e+00 -5.07369110e-08\n",
      " -1.18373455e+00  3.42475620e+00]\n"
     ]
    }
   ],
   "source": [
    "print(\"X\", X.value)\n",
    "print(\"U\", U.value)"
   ]
  },
  {
   "cell_type": "markdown",
   "metadata": {},
   "source": [
    "#Question 3"
   ]
  },
  {
   "cell_type": "code",
   "execution_count": 11,
   "metadata": {},
   "outputs": [
    {
     "name": "stdout",
     "output_type": "stream",
     "text": [
      "[Inequality(Expression(AFFINE, NONNEGATIVE, (3,))), Inequality(Expression(UNKNOWN, NONNEGATIVE, (3,))), Equality(Expression(AFFINE, NONNEGATIVE, ()), Constant(CONSTANT, NONNEGATIVE, ()))]\n",
      "===============================================================================\n",
      "                                     CVXPY                                     \n",
      "                                     v1.4.1                                    \n",
      "===============================================================================\n",
      "(CVXPY) Oct 16 10:27:15 AM: Your problem has 7 variables, 3 constraints, and 0 parameters.\n",
      "(CVXPY) Oct 16 10:27:15 AM: It is compliant with the following grammars: \n",
      "(CVXPY) Oct 16 10:27:15 AM: (If you need to solve this problem multiple times, but with different data, consider using parameters.)\n",
      "(CVXPY) Oct 16 10:27:15 AM: CVXPY will first compile your problem; then, it will invoke a numerical solver to obtain a solution.\n",
      "(CVXPY) Oct 16 10:27:15 AM: Your problem is compiled with the CPP canonicalization backend.\n"
     ]
    },
    {
     "ename": "DCPError",
     "evalue": "Problem does not follow DCP rules. Specifically:\nThe following constraints are not DCP:\npower(power([1.  1.  0.5], 2.0) + power(var298, 2.0), 0.5) <= var299 , because the following subexpressions are not:\n|--  power(power([1.  1.  0.5], 2.0) + power(var298, 2.0), 0.5)",
     "output_type": "error",
     "traceback": [
      "\u001b[1;31m---------------------------------------------------------------------------\u001b[0m",
      "\u001b[1;31mDCPError\u001b[0m                                  Traceback (most recent call last)",
      "\u001b[1;32md:\\Github\\convexoptimization\\tutorial4.ipynb Cell 13\u001b[0m line \u001b[0;36m2\n\u001b[0;32m     <a href='vscode-notebook-cell:/d%3A/Github/convexoptimization/tutorial4.ipynb#X21sZmlsZQ%3D%3D?line=20'>21</a>\u001b[0m objective \u001b[39m=\u001b[39m cp\u001b[39m.\u001b[39mMinimize(T)\n\u001b[0;32m     <a href='vscode-notebook-cell:/d%3A/Github/convexoptimization/tutorial4.ipynb#X21sZmlsZQ%3D%3D?line=21'>22</a>\u001b[0m prob \u001b[39m=\u001b[39m cp\u001b[39m.\u001b[39mProblem(objective, constraints)\n\u001b[1;32m---> <a href='vscode-notebook-cell:/d%3A/Github/convexoptimization/tutorial4.ipynb#X21sZmlsZQ%3D%3D?line=22'>23</a>\u001b[0m prob\u001b[39m.\u001b[39;49msolve(solver\u001b[39m=\u001b[39;49mcp\u001b[39m.\u001b[39;49mMOSEK, verbose\u001b[39m=\u001b[39;49m\u001b[39mTrue\u001b[39;49;00m)\n",
      "File \u001b[1;32mc:\\Users\\jingwang\\.conda\\envs\\convex\\lib\\site-packages\\cvxpy\\problems\\problem.py:503\u001b[0m, in \u001b[0;36mProblem.solve\u001b[1;34m(self, *args, **kwargs)\u001b[0m\n\u001b[0;32m    501\u001b[0m \u001b[39melse\u001b[39;00m:\n\u001b[0;32m    502\u001b[0m     solve_func \u001b[39m=\u001b[39m Problem\u001b[39m.\u001b[39m_solve\n\u001b[1;32m--> 503\u001b[0m \u001b[39mreturn\u001b[39;00m solve_func(\u001b[39mself\u001b[39;49m, \u001b[39m*\u001b[39;49margs, \u001b[39m*\u001b[39;49m\u001b[39m*\u001b[39;49mkwargs)\n",
      "File \u001b[1;32mc:\\Users\\jingwang\\.conda\\envs\\convex\\lib\\site-packages\\cvxpy\\problems\\problem.py:1072\u001b[0m, in \u001b[0;36mProblem._solve\u001b[1;34m(self, solver, warm_start, verbose, gp, qcp, requires_grad, enforce_dpp, ignore_dpp, canon_backend, **kwargs)\u001b[0m\n\u001b[0;32m   1069\u001b[0m         \u001b[39mself\u001b[39m\u001b[39m.\u001b[39munpack(chain\u001b[39m.\u001b[39mretrieve(soln))\n\u001b[0;32m   1070\u001b[0m         \u001b[39mreturn\u001b[39;00m \u001b[39mself\u001b[39m\u001b[39m.\u001b[39mvalue\n\u001b[1;32m-> 1072\u001b[0m data, solving_chain, inverse_data \u001b[39m=\u001b[39m \u001b[39mself\u001b[39;49m\u001b[39m.\u001b[39;49mget_problem_data(\n\u001b[0;32m   1073\u001b[0m     solver, gp, enforce_dpp, ignore_dpp, verbose, canon_backend, kwargs\n\u001b[0;32m   1074\u001b[0m )\n\u001b[0;32m   1076\u001b[0m \u001b[39mif\u001b[39;00m verbose:\n\u001b[0;32m   1077\u001b[0m     \u001b[39mprint\u001b[39m(_NUM_SOLVER_STR)\n",
      "File \u001b[1;32mc:\\Users\\jingwang\\.conda\\envs\\convex\\lib\\site-packages\\cvxpy\\problems\\problem.py:646\u001b[0m, in \u001b[0;36mProblem.get_problem_data\u001b[1;34m(self, solver, gp, enforce_dpp, ignore_dpp, verbose, canon_backend, solver_opts)\u001b[0m\n\u001b[0;32m    644\u001b[0m \u001b[39mif\u001b[39;00m key \u001b[39m!=\u001b[39m \u001b[39mself\u001b[39m\u001b[39m.\u001b[39m_cache\u001b[39m.\u001b[39mkey:\n\u001b[0;32m    645\u001b[0m     \u001b[39mself\u001b[39m\u001b[39m.\u001b[39m_cache\u001b[39m.\u001b[39minvalidate()\n\u001b[1;32m--> 646\u001b[0m     solving_chain \u001b[39m=\u001b[39m \u001b[39mself\u001b[39;49m\u001b[39m.\u001b[39;49m_construct_chain(\n\u001b[0;32m    647\u001b[0m         solver\u001b[39m=\u001b[39;49msolver, gp\u001b[39m=\u001b[39;49mgp,\n\u001b[0;32m    648\u001b[0m         enforce_dpp\u001b[39m=\u001b[39;49menforce_dpp,\n\u001b[0;32m    649\u001b[0m         ignore_dpp\u001b[39m=\u001b[39;49mignore_dpp,\n\u001b[0;32m    650\u001b[0m         canon_backend\u001b[39m=\u001b[39;49mcanon_backend,\n\u001b[0;32m    651\u001b[0m         solver_opts\u001b[39m=\u001b[39;49msolver_opts)\n\u001b[0;32m    652\u001b[0m     \u001b[39mself\u001b[39m\u001b[39m.\u001b[39m_cache\u001b[39m.\u001b[39mkey \u001b[39m=\u001b[39m key\n\u001b[0;32m    653\u001b[0m     \u001b[39mself\u001b[39m\u001b[39m.\u001b[39m_cache\u001b[39m.\u001b[39msolving_chain \u001b[39m=\u001b[39m solving_chain\n",
      "File \u001b[1;32mc:\\Users\\jingwang\\.conda\\envs\\convex\\lib\\site-packages\\cvxpy\\problems\\problem.py:898\u001b[0m, in \u001b[0;36mProblem._construct_chain\u001b[1;34m(self, solver, gp, enforce_dpp, ignore_dpp, canon_backend, solver_opts)\u001b[0m\n\u001b[0;32m    896\u001b[0m candidate_solvers \u001b[39m=\u001b[39m \u001b[39mself\u001b[39m\u001b[39m.\u001b[39m_find_candidate_solvers(solver\u001b[39m=\u001b[39msolver, gp\u001b[39m=\u001b[39mgp)\n\u001b[0;32m    897\u001b[0m \u001b[39mself\u001b[39m\u001b[39m.\u001b[39m_sort_candidate_solvers(candidate_solvers)\n\u001b[1;32m--> 898\u001b[0m \u001b[39mreturn\u001b[39;00m construct_solving_chain(\u001b[39mself\u001b[39;49m, candidate_solvers, gp\u001b[39m=\u001b[39;49mgp,\n\u001b[0;32m    899\u001b[0m                                enforce_dpp\u001b[39m=\u001b[39;49menforce_dpp,\n\u001b[0;32m    900\u001b[0m                                ignore_dpp\u001b[39m=\u001b[39;49mignore_dpp,\n\u001b[0;32m    901\u001b[0m                                canon_backend\u001b[39m=\u001b[39;49mcanon_backend,\n\u001b[0;32m    902\u001b[0m                                solver_opts\u001b[39m=\u001b[39;49msolver_opts,\n\u001b[0;32m    903\u001b[0m                                specified_solver\u001b[39m=\u001b[39;49msolver)\n",
      "File \u001b[1;32mc:\\Users\\jingwang\\.conda\\envs\\convex\\lib\\site-packages\\cvxpy\\reductions\\solvers\\solving_chain.py:217\u001b[0m, in \u001b[0;36mconstruct_solving_chain\u001b[1;34m(problem, candidates, gp, enforce_dpp, ignore_dpp, canon_backend, solver_opts, specified_solver)\u001b[0m\n\u001b[0;32m    215\u001b[0m \u001b[39mif\u001b[39;00m \u001b[39mlen\u001b[39m(problem\u001b[39m.\u001b[39mvariables()) \u001b[39m==\u001b[39m \u001b[39m0\u001b[39m:\n\u001b[0;32m    216\u001b[0m     \u001b[39mreturn\u001b[39;00m SolvingChain(reductions\u001b[39m=\u001b[39m[ConstantSolver()])\n\u001b[1;32m--> 217\u001b[0m reductions \u001b[39m=\u001b[39m _reductions_for_problem_class(problem, candidates, gp, solver_opts)\n\u001b[0;32m    219\u001b[0m \u001b[39m# Process DPP status of the problem.\u001b[39;00m\n\u001b[0;32m    220\u001b[0m dpp_context \u001b[39m=\u001b[39m \u001b[39m'\u001b[39m\u001b[39mdcp\u001b[39m\u001b[39m'\u001b[39m \u001b[39mif\u001b[39;00m \u001b[39mnot\u001b[39;00m gp \u001b[39melse\u001b[39;00m \u001b[39m'\u001b[39m\u001b[39mdgp\u001b[39m\u001b[39m'\u001b[39m\n",
      "File \u001b[1;32mc:\\Users\\jingwang\\.conda\\envs\\convex\\lib\\site-packages\\cvxpy\\reductions\\solvers\\solving_chain.py:132\u001b[0m, in \u001b[0;36m_reductions_for_problem_class\u001b[1;34m(problem, candidates, gp, solver_opts)\u001b[0m\n\u001b[0;32m    129\u001b[0m     \u001b[39melif\u001b[39;00m problem\u001b[39m.\u001b[39mis_dqcp():\n\u001b[0;32m    130\u001b[0m         append \u001b[39m+\u001b[39m\u001b[39m=\u001b[39m (\u001b[39m\"\u001b[39m\u001b[39m\\n\u001b[39;00m\u001b[39mHowever, the problem does follow DQCP rules. \u001b[39m\u001b[39m\"\u001b[39m\n\u001b[0;32m    131\u001b[0m                    \u001b[39m\"\u001b[39m\u001b[39mConsider calling solve() with `qcp=True`.\u001b[39m\u001b[39m\"\u001b[39m)\n\u001b[1;32m--> 132\u001b[0m     \u001b[39mraise\u001b[39;00m DCPError(\n\u001b[0;32m    133\u001b[0m         \u001b[39m\"\u001b[39m\u001b[39mProblem does not follow DCP rules. Specifically:\u001b[39m\u001b[39m\\n\u001b[39;00m\u001b[39m\"\u001b[39m \u001b[39m+\u001b[39m append)\n\u001b[0;32m    134\u001b[0m \u001b[39melif\u001b[39;00m gp \u001b[39mand\u001b[39;00m \u001b[39mnot\u001b[39;00m problem\u001b[39m.\u001b[39mis_dgp():\n\u001b[0;32m    135\u001b[0m     append \u001b[39m=\u001b[39m build_non_disciplined_error_msg(problem, \u001b[39m'\u001b[39m\u001b[39mDGP\u001b[39m\u001b[39m'\u001b[39m)\n",
      "\u001b[1;31mDCPError\u001b[0m: Problem does not follow DCP rules. Specifically:\nThe following constraints are not DCP:\npower(power([1.  1.  0.5], 2.0) + power(var298, 2.0), 0.5) <= var299 , because the following subexpressions are not:\n|--  power(power([1.  1.  0.5], 2.0) + power(var298, 2.0), 0.5)"
     ]
    }
   ],
   "source": [
    "import cvxpy as cp\n",
    "import numpy as np\n",
    "\n",
    "v1 = 1\n",
    "v2 = v1/1.5\n",
    "v3 = v1/1.3\n",
    "V = np.array([v1, v2, v3])\n",
    "H = np.array([1, 1, 0.5])\n",
    "X = cp.Variable(3,nonneg = True)\n",
    "L = cp.Variable(3,nonneg = True)\n",
    "T = cp.Variable(1)\n",
    "#Define Constraint\n",
    "constraints = [ \n",
    "    cp.multiply(L,cp.power(V,-1)) <= T,\n",
    "    cp.power(cp.power(H,2) + cp.power(X,2),0.5) <= L,\n",
    "    X.sum() == 4\n",
    "    ]\n",
    "print(constraints)\n",
    "\n",
    "#Define Objective\n",
    "objective = cp.Minimize(T)\n",
    "prob = cp.Problem(objective, constraints)\n",
    "prob.solve(solver=cp.MOSEK, verbose=True)"
   ]
  },
  {
   "cell_type": "code",
   "execution_count": 10,
   "metadata": {},
   "outputs": [
    {
     "name": "stdout",
     "output_type": "stream",
     "text": [
      "[3.16172362 2.10781574 2.43209509]\n",
      "[1.47028012 1.05252826 1.47719162]\n",
      "[1.77812362 1.45183186 1.55951758]\n"
     ]
    }
   ],
   "source": [
    "print(L.value)\n",
    "print(X.value)\n",
    "print(np.power(np.power(X.value,2) + np.power(H,2),0.5))"
   ]
  }
 ],
 "metadata": {
  "kernelspec": {
   "display_name": "convex",
   "language": "python",
   "name": "python3"
  },
  "language_info": {
   "codemirror_mode": {
    "name": "ipython",
    "version": 3
   },
   "file_extension": ".py",
   "mimetype": "text/x-python",
   "name": "python",
   "nbconvert_exporter": "python",
   "pygments_lexer": "ipython3",
   "version": "3.8.18"
  }
 },
 "nbformat": 4,
 "nbformat_minor": 2
}
